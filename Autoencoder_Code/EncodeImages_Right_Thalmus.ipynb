{
 "cells": [
  {
   "cell_type": "code",
   "execution_count": 1,
   "metadata": {},
   "outputs": [],
   "source": [
    "import sys\n",
    "import os\n",
    "import tensorflow as tf\n",
    "from tensorflow.keras import layers,models,optimizers,regularizers,losses\n",
    "import numpy as np\n",
    "import pandas as pd\n",
    "from sklearn import metrics\n",
    "import seaborn as sns\n",
    "from tensorflow.keras import utils\n",
    "from tensorflow.keras.utils import get_custom_objects\n",
    "import matplotlib.pyplot as plt\n",
    "import matplotlib\n",
    "import SimpleITK as sitk\n",
    "from skimage.transform import resize\n",
    "from skimage import img_as_bool\n",
    "import pickle\n",
    "from random import randint"
   ]
  },
  {
   "cell_type": "markdown",
   "metadata": {},
   "source": [
    "# Read Data"
   ]
  },
  {
   "cell_type": "code",
   "execution_count": 2,
   "metadata": {},
   "outputs": [],
   "source": [
    "def read_image_from_path(INPUT_DIR,EXTENSION):\n",
    "    all_images = []\n",
    "    all_filenames = []\n",
    "    for filename in os.listdir(INPUT_DIR):\n",
    "        if filename.endswith(EXTENSION): \n",
    "            image = sitk.ReadImage(os.path.join(INPUT_DIR, filename))\n",
    "            image_array = np.squeeze(np.asarray(sitk.GetArrayFromImage(image)))\n",
    "            image_array = np.array(image_array, dtype=bool)\n",
    "            image_resized = resize(image_array, (64, 64), mode='constant', anti_aliasing=False)\n",
    "            all_images.append(image_resized)\n",
    "            all_filenames.append(filename[:-11])\n",
    "        data = np.array(all_images)\n",
    "    return data, all_filenames"
   ]
  },
  {
   "cell_type": "code",
   "execution_count": 3,
   "metadata": {},
   "outputs": [
    {
     "name": "stdout",
     "output_type": "stream",
     "text": [
      "(478, 64, 64)\n",
      "(478, 64, 64)\n",
      "(478, 64, 64)\n"
     ]
    }
   ],
   "source": [
    "Data_proj1,filenames = read_image_from_path('./SubcorticalImages/Thalmus/','ThalR_pp_surfSPHARM_procalign_proj1.nrrd')\n",
    "print(Data_proj1.shape)\n",
    "Data_proj2,_ = read_image_from_path('./SubcorticalImages/Thalmus/','ThalR_pp_surfSPHARM_procalign_proj2.nrrd')\n",
    "print(Data_proj2.shape)\n",
    "Data_proj3,_ = read_image_from_path('./SubcorticalImages/Thalmus/','ThalR_pp_surfSPHARM_procalign_proj3.nrrd')\n",
    "print(Data_proj3.shape)"
   ]
  },
  {
   "cell_type": "code",
   "execution_count": 4,
   "metadata": {},
   "outputs": [
    {
     "data": {
      "image/png": "[encoded data removed]",
      "text/plain": [
       "<Figure size 576x576 with 3 Axes>"
      ]
     },
     "metadata": {
      "needs_background": "light"
     },
     "output_type": "display_data"
    }
   ],
   "source": [
    "fig=plt.figure(figsize=(8, 8))\n",
    "fig.add_subplot(3, 1, 1)\n",
    "plt.imshow(Data_proj1[0,:,:],cmap='gray')\n",
    "fig.add_subplot(3, 1, 2)\n",
    "plt.imshow(Data_proj2[0,:,:],cmap='gray')\n",
    "fig.add_subplot(3, 1, 3)\n",
    "plt.imshow(Data_proj3[0,:,:],cmap='gray')\n",
    "plt.show()"
   ]
  },
  {
   "cell_type": "code",
   "execution_count": 5,
   "metadata": {},
   "outputs": [
    {
     "name": "stdout",
     "output_type": "stream",
     "text": [
      "(478, 3, 64, 64)\n"
     ]
    }
   ],
   "source": [
    "# Save Data\n",
    "Original_Images = np.zeros((Data_proj1.shape[0],3,Data_proj1.shape[1],Data_proj1.shape[2]))\n",
    "Original_Images[:,0,:,:] = Data_proj1\n",
    "Original_Images[:,1,:,:] = Data_proj2\n",
    "Original_Images[:,2,:,:] = Data_proj3\n",
    "print(Original_Images.shape)\n",
    "with open(os.path.join('./SubcorticalImages/Thalmus/ToSam/R/Original_Images.pkl'),'wb') as f:\n",
    "    pickle.dump(Original_Images, f)\n",
    "with open(os.path.join('./SubcorticalImages/Thalmus/ToSam/R/Original_Images_Filenames.pkl'),'wb') as f:\n",
    "    pickle.dump(filenames, f)"
   ]
  },
  {
   "cell_type": "markdown",
   "metadata": {},
   "source": [
    "# Preprocess Data "
   ]
  },
  {
   "cell_type": "code",
   "execution_count": 6,
   "metadata": {},
   "outputs": [
    {
     "name": "stdout",
     "output_type": "stream",
     "text": [
      "(1434, 64, 64, 1)\n"
     ]
    }
   ],
   "source": [
    "X = np.vstack((Data_proj1,Data_proj2,Data_proj3))\n",
    "X = np.expand_dims(X,  axis=-1)\n",
    "print(X.shape)"
   ]
  },
  {
   "cell_type": "markdown",
   "metadata": {},
   "source": [
    "# Deep Learning Model"
   ]
  },
  {
   "cell_type": "code",
   "execution_count": 7,
   "metadata": {},
   "outputs": [],
   "source": [
    "# build encoder model\n",
    "def encoder(kernel, filter, rows, columns, channel, latent_dim, usedropout=False, dropoutrate=0.2):\n",
    "\n",
    "    inputs_x = layers.Input(shape=(rows, columns, channel), name='data_input')\n",
    "    model    = layers.Conv2D(filters=filter, kernel_size=kernel, strides=(2,2), padding='same',kernel_regularizer=regularizers.l2(1e-5), kernel_initializer='he_uniform')(inputs_x)\n",
    "    model    = layers.BatchNormalization(epsilon=1e-6)(model)\n",
    "    model    = layers.LeakyReLU(0.2)(model)\n",
    "    if usedropout:\n",
    "        model    = layers.Dropout(dropoutrate)(model)\n",
    "    model    = layers.Conv2D(filters=2*filter, kernel_size=kernel, strides=(2,2), padding='same', kernel_regularizer=regularizers.l2(1e-5), kernel_initializer='he_uniform')(model)\n",
    "    model    = layers.BatchNormalization(epsilon=1e-6)(model)\n",
    "    model    = layers.LeakyReLU(0.2)(model)\n",
    "    if usedropout:\n",
    "        model    = layers.Dropout(dropoutrate)(model)\n",
    "    model    = layers.Conv2D(filters=4*filter, kernel_size=kernel, strides=(2,2), padding='same', kernel_regularizer=regularizers.l2(1e-5), kernel_initializer='he_uniform')(model)\n",
    "    model    = layers.BatchNormalization(epsilon=1e-6)(model)\n",
    "    model    = layers.LeakyReLU(0.2)(model)\n",
    "    if usedropout:\n",
    "        model    = layers.Dropout(dropoutrate)(model)\n",
    "    model    = layers.Conv2D(filters=8*filter, kernel_size=kernel, strides=(2,2), padding='same',kernel_regularizer=regularizers.l2(1e-5), kernel_initializer='he_uniform')(model)\n",
    "    model    = layers.BatchNormalization(epsilon=1e-6)(model)\n",
    "    model    = layers.LeakyReLU(0.2)(model)\n",
    "\n",
    "    model     = layers.Flatten()(model)\n",
    "    z         = layers.Dense(latent_dim,name='z',kernel_regularizer=regularizers.l2(1e-5), kernel_initializer='he_uniform')(model)\n",
    "\n",
    "    # instantiate encoder model\n",
    "    encoder = models.Model(inputs_x, z, name='encoder')\n",
    "\n",
    "    return encoder"
   ]
  },
  {
   "cell_type": "code",
   "execution_count": 8,
   "metadata": {},
   "outputs": [],
   "source": [
    "# build decoder model\n",
    "def decoder(kernel, filter, z_rows, z_columns, z_channel, x_channel, latent_dim, usedropout=False,dropoutrate=0.2):\n",
    "\n",
    "    inputs_z = layers.Input(shape=(latent_dim,), name='z')\n",
    "    model    = layers.Dense(z_rows*z_columns*z_channel , kernel_regularizer=regularizers.l2(1e-5), kernel_initializer='he_uniform')(inputs_z)\n",
    "    model    = layers.Reshape((z_rows,z_columns,z_channel))(model)\n",
    "    model    = layers.BatchNormalization(epsilon=1e-6)(model)\n",
    "    model    = layers.LeakyReLU(0.2)(model)\n",
    "    if usedropout:\n",
    "        model    = layers.Dropout(dropoutrate)(model)\n",
    "    model    = layers.Conv2DTranspose(filters=filter*16, kernel_size=kernel, strides=(2,2), padding='same',kernel_regularizer=regularizers.l2(1e-5), kernel_initializer='he_uniform')(model)\n",
    "    model    = layers.BatchNormalization(epsilon=1e-6)(model)\n",
    "    model    = layers.LeakyReLU(0.2)(model)\n",
    "    if usedropout:\n",
    "        model    = layers.Dropout(dropoutrate)(model)\n",
    "    model    = layers.Conv2DTranspose(filters=filter*8, kernel_size=kernel, strides=(2,2), padding='same',kernel_regularizer=regularizers.l2(1e-5), kernel_initializer='he_uniform')(model)\n",
    "    model    = layers.BatchNormalization(epsilon=1e-6)(model)\n",
    "    model    = layers.LeakyReLU(0.2)(model)\n",
    "    if usedropout:\n",
    "        model    = layers.Dropout(dropoutrate)(model)\n",
    "    model    = layers.Conv2DTranspose(filters=filter*4, kernel_size=kernel, strides=(2,2), padding='same',kernel_regularizer=regularizers.l2(1e-5), kernel_initializer='he_uniform')(model)\n",
    "    model    = layers.BatchNormalization(epsilon=1e-6)(model)\n",
    "    model    = layers.LeakyReLU(0.2)(model)\n",
    "    if usedropout:\n",
    "        model    = layers.Dropout(dropoutrate)(model)\n",
    "\n",
    "    model    = layers.Conv2DTranspose(filters=x_channel, kernel_size=kernel, strides=(2,2), padding='same',kernel_regularizer=regularizers.l2(1e-5), kernel_initializer='he_uniform')(model)\n",
    "    #model    = layers.BatchNormalization(epsilon=1e-6)(model)\n",
    "    out      = layers.Activation('sigmoid', name='recons_input')(model)    \n",
    "\n",
    "    # instantiate decoder model\n",
    "    decoder = models.Model(inputs_z, out, name='decoder')\n",
    "    return decoder"
   ]
  },
  {
   "cell_type": "code",
   "execution_count": 9,
   "metadata": {},
   "outputs": [],
   "source": [
    "# Model Hyperparameters\n",
    "W = 64\n",
    "H = 64\n",
    "C = 1\n",
    "latent_dim = 10\n",
    "usedropout = False\n",
    "dropoutrate = 0.5"
   ]
  },
  {
   "cell_type": "code",
   "execution_count": 10,
   "metadata": {},
   "outputs": [
    {
     "name": "stdout",
     "output_type": "stream",
     "text": [
      "_________________________________________________________________\n",
      "Layer (type)                 Output Shape              Param #   \n",
      "=================================================================\n",
      "data_input (InputLayer)      (None, 64, 64, 1)         0         \n",
      "_________________________________________________________________\n",
      "conv2d (Conv2D)              (None, 32, 32, 16)        160       \n",
      "_________________________________________________________________\n",
      "batch_normalization (BatchNo (None, 32, 32, 16)        64        \n",
      "_________________________________________________________________\n",
      "leaky_re_lu (LeakyReLU)      (None, 32, 32, 16)        0         \n",
      "_________________________________________________________________\n",
      "conv2d_1 (Conv2D)            (None, 16, 16, 32)        4640      \n",
      "_________________________________________________________________\n",
      "batch_normalization_1 (Batch (None, 16, 16, 32)        128       \n",
      "_________________________________________________________________\n",
      "leaky_re_lu_1 (LeakyReLU)    (None, 16, 16, 32)        0         \n",
      "_________________________________________________________________\n",
      "conv2d_2 (Conv2D)            (None, 8, 8, 64)          18496     \n",
      "_________________________________________________________________\n",
      "batch_normalization_2 (Batch (None, 8, 8, 64)          256       \n",
      "_________________________________________________________________\n",
      "leaky_re_lu_2 (LeakyReLU)    (None, 8, 8, 64)          0         \n",
      "_________________________________________________________________\n",
      "conv2d_3 (Conv2D)            (None, 4, 4, 128)         73856     \n",
      "_________________________________________________________________\n",
      "batch_normalization_3 (Batch (None, 4, 4, 128)         512       \n",
      "_________________________________________________________________\n",
      "leaky_re_lu_3 (LeakyReLU)    (None, 4, 4, 128)         0         \n",
      "_________________________________________________________________\n",
      "flatten (Flatten)            (None, 2048)              0         \n",
      "_________________________________________________________________\n",
      "z (Dense)                    (None, 10)                20490     \n",
      "=================================================================\n",
      "Total params: 118,602\n",
      "Trainable params: 118,122\n",
      "Non-trainable params: 480\n",
      "_________________________________________________________________\n"
     ]
    }
   ],
   "source": [
    "# instantiate encoder model\n",
    "Enc = encoder((3,3), 16, W, H, C, latent_dim, usedropout, dropoutrate)\n",
    "Enc.summary()"
   ]
  },
  {
   "cell_type": "code",
   "execution_count": 11,
   "metadata": {},
   "outputs": [
    {
     "name": "stdout",
     "output_type": "stream",
     "text": [
      "_________________________________________________________________\n",
      "Layer (type)                 Output Shape              Param #   \n",
      "=================================================================\n",
      "z (InputLayer)               (None, 10)                0         \n",
      "_________________________________________________________________\n",
      "dense (Dense)                (None, 2048)              22528     \n",
      "_________________________________________________________________\n",
      "reshape (Reshape)            (None, 4, 4, 128)         0         \n",
      "_________________________________________________________________\n",
      "batch_normalization_4 (Batch (None, 4, 4, 128)         512       \n",
      "_________________________________________________________________\n",
      "leaky_re_lu_4 (LeakyReLU)    (None, 4, 4, 128)         0         \n",
      "_________________________________________________________________\n",
      "conv2d_transpose (Conv2DTran (None, 8, 8, 256)         295168    \n",
      "_________________________________________________________________\n",
      "batch_normalization_5 (Batch (None, 8, 8, 256)         1024      \n",
      "_________________________________________________________________\n",
      "leaky_re_lu_5 (LeakyReLU)    (None, 8, 8, 256)         0         \n",
      "_________________________________________________________________\n",
      "conv2d_transpose_1 (Conv2DTr (None, 16, 16, 128)       295040    \n",
      "_________________________________________________________________\n",
      "batch_normalization_6 (Batch (None, 16, 16, 128)       512       \n",
      "_________________________________________________________________\n",
      "leaky_re_lu_6 (LeakyReLU)    (None, 16, 16, 128)       0         \n",
      "_________________________________________________________________\n",
      "conv2d_transpose_2 (Conv2DTr (None, 32, 32, 64)        73792     \n",
      "_________________________________________________________________\n",
      "batch_normalization_7 (Batch (None, 32, 32, 64)        256       \n",
      "_________________________________________________________________\n",
      "leaky_re_lu_7 (LeakyReLU)    (None, 32, 32, 64)        0         \n",
      "_________________________________________________________________\n",
      "conv2d_transpose_3 (Conv2DTr (None, 64, 64, 1)         577       \n",
      "_________________________________________________________________\n",
      "recons_input (Activation)    (None, 64, 64, 1)         0         \n",
      "=================================================================\n",
      "Total params: 689,409\n",
      "Trainable params: 688,257\n",
      "Non-trainable params: 1,152\n",
      "_________________________________________________________________\n"
     ]
    }
   ],
   "source": [
    "# instantiate decoder model\n",
    "Dec = decoder((3,3), 16, 4, 4, 128, C, latent_dim, usedropout,dropoutrate)\n",
    "Dec.summary()"
   ]
  },
  {
   "cell_type": "code",
   "execution_count": 12,
   "metadata": {},
   "outputs": [
    {
     "name": "stdout",
     "output_type": "stream",
     "text": [
      "_________________________________________________________________\n",
      "Layer (type)                 Output Shape              Param #   \n",
      "=================================================================\n",
      "input_1 (InputLayer)         (None, 64, 64, 1)         0         \n",
      "_________________________________________________________________\n",
      "encoder (Model)              (None, 10)                118602    \n",
      "_________________________________________________________________\n",
      "decoder (Model)              (None, 64, 64, 1)         689409    \n",
      "=================================================================\n",
      "Total params: 808,011\n",
      "Trainable params: 806,379\n",
      "Non-trainable params: 1,632\n",
      "_________________________________________________________________\n"
     ]
    }
   ],
   "source": [
    "# Build AE Graph\n",
    "inputs = layers.Input(shape=(W, H, C))\n",
    "z = Enc(inputs)\n",
    "outputs = Dec(z)\n",
    "\n",
    "# Create model for training\n",
    "ae_train = models.Model(inputs, outputs, name='AE_Train')\n",
    "ADAMop = optimizers.Adam(lr = 0.0001)\n",
    "ae_train.compile(ADAMop, 'mean_squared_error')\n",
    "ae_train.summary()"
   ]
  },
  {
   "cell_type": "code",
   "execution_count": 13,
   "metadata": {},
   "outputs": [
    {
     "name": "stdout",
     "output_type": "stream",
     "text": [
      "Train on 1147 samples, validate on 287 samples\n",
      "Epoch 1/1\n",
      "1147/1147 [==============================] - 95s 83ms/step - loss: 7.4876 - val_loss: 5.7072\n"
     ]
    }
   ],
   "source": [
    "batch_size = 32\n",
    "epochs = 1\n",
    "\n",
    "# save models\n",
    "mc = tf.keras.callbacks.ModelCheckpoint('Right_Thalmus_weights{epoch:08d}.h5', save_weights_only=True, period=10)\n",
    "\n",
    "# visualize learning\n",
    "tensorboard = tf.keras.callbacks.TensorBoard(log_dir='./Graph', histogram_freq=0,  \n",
    "              write_graph=True, write_images=True)\n",
    "\n",
    "# train the autoencoder\n",
    "history = ae_train.fit(X, X,\n",
    "  epochs=epochs,\n",
    "  batch_size=batch_size,\n",
    "  validation_split=0.2,\n",
    "  callbacks=[mc,tensorboard],\n",
    "  verbose=1,\n",
    "  shuffle=True)"
   ]
  },
  {
   "cell_type": "code",
   "execution_count": 14,
   "metadata": {},
   "outputs": [
    {
     "data": {
      "image/png": "[encoded data removed]",
      "text/plain": [
       "<Figure size 432x288 with 1 Axes>"
      ]
     },
     "metadata": {
      "needs_background": "light"
     },
     "output_type": "display_data"
    }
   ],
   "source": [
    "loss     = np.array(history.history['loss'])\n",
    "val_loss = np.array(history.history['val_loss'])\n",
    "fig = plt.figure()\n",
    "plt.plot(loss)\n",
    "plt.plot(val_loss)\n",
    "plt.title('Model Loss Curves')\n",
    "plt.ylabel('AE Loss')\n",
    "plt.xlabel('Epoch')\n",
    "plt.legend(['training set', 'validation set'], loc='upper right')\n",
    "plt.tight_layout()\n",
    "plt.show()\n",
    "fig.savefig('ae_history_Left_Thalmus.png', dpi=600)"
   ]
  },
  {
   "cell_type": "code",
   "execution_count": 15,
   "metadata": {},
   "outputs": [],
   "source": [
    "selectedepoch = 50\n",
    "loadmodel = True\n",
    "if loadmodel:\n",
    "    ae_train.load_weights('Right_Thalmus_weights{0:08d}'.format(selectedepoch)+'.h5')"
   ]
  },
  {
   "cell_type": "code",
   "execution_count": 16,
   "metadata": {},
   "outputs": [],
   "source": [
    "Original_Codes = np.zeros((Data_proj1.shape[0],3,latent_dim))\n",
    "# generate latent codes\n",
    "idx = 0\n",
    "for filename in os.listdir('./SubcorticalImages/Thalmus/'):\n",
    "    if filename.endswith('ThalR_pp_surfSPHARM_procalign_proj1.nrrd'): \n",
    "        image = sitk.ReadImage(os.path.join('./SubcorticalImages/Thalmus/', filename))\n",
    "        image_array = np.squeeze(np.asarray(sitk.GetArrayFromImage(image)))\n",
    "        image_array = np.array(image_array, dtype=bool)\n",
    "        image_resized = resize(image_array, (64, 64), mode='constant', anti_aliasing=False)\n",
    "        x = np.expand_dims(np.expand_dims(image_resized,  axis=-1), axis=0)\n",
    "        z = Enc.predict(x)\n",
    "        Original_Codes[idx,0,:] = z\n",
    "        name, _ = os.path.splitext(filename)\n",
    "        with open(os.path.join('./SubcorticalImages/Thalmus/Code/', name + '.pkl'),'wb') as f:\n",
    "            pickle.dump(z, f)\n",
    "        idx += 1\n",
    "\n",
    "idx = 0\n",
    "for filename in os.listdir('./SubcorticalImages/Thalmus/'):\n",
    "    if filename.endswith('ThalR_pp_surfSPHARM_procalign_proj2.nrrd'): \n",
    "        image = sitk.ReadImage(os.path.join('./SubcorticalImages/Thalmus/', filename))\n",
    "        image_array = np.squeeze(np.asarray(sitk.GetArrayFromImage(image)))\n",
    "        image_array = np.array(image_array, dtype=bool)\n",
    "        image_resized = resize(image_array, (64, 64), mode='constant', anti_aliasing=False)\n",
    "        x = np.expand_dims(np.expand_dims(image_resized,  axis=-1), axis=0)\n",
    "        z = Enc.predict(x)\n",
    "        Original_Codes[idx,1,:] = z\n",
    "        name, _ = os.path.splitext(filename)\n",
    "        with open(os.path.join('./SubcorticalImages/Thalmus/Code/', name + '.pkl'),'wb') as f:\n",
    "            pickle.dump(z, f)\n",
    "        idx += 1\n",
    "\n",
    "idx = 0\n",
    "for filename in os.listdir('./SubcorticalImages/Thalmus/'):\n",
    "    if filename.endswith('ThalR_pp_surfSPHARM_procalign_proj3.nrrd'): \n",
    "        image = sitk.ReadImage(os.path.join('./SubcorticalImages/Thalmus/', filename))\n",
    "        image_array = np.squeeze(np.asarray(sitk.GetArrayFromImage(image)))\n",
    "        image_array = np.array(image_array, dtype=bool)\n",
    "        image_resized = resize(image_array, (64, 64), mode='constant', anti_aliasing=False)\n",
    "        x = np.expand_dims(np.expand_dims(image_resized,  axis=-1), axis=0)\n",
    "        z = Enc.predict(x)\n",
    "        Original_Codes[idx,2,:] = z\n",
    "        name, _ = os.path.splitext(filename)\n",
    "        name, _ = os.path.splitext(filename)\n",
    "        with open(os.path.join('./SubcorticalImages/Thalmus/Code/', name + '.pkl'),'wb') as f:\n",
    "            pickle.dump(z, f)\n",
    "        idx += 1"
   ]
  },
  {
   "cell_type": "code",
   "execution_count": 17,
   "metadata": {},
   "outputs": [],
   "source": [
    "# Save Codes\n",
    "with open(os.path.join('./SubcorticalImages/Thalmus/ToSam/R/Original_Codes.pkl'),'wb') as f:\n",
    "    pickle.dump(Original_Codes, f)"
   ]
  },
  {
   "cell_type": "code",
   "execution_count": 18,
   "metadata": {},
   "outputs": [],
   "source": [
    "# Split Data to Training and Testing\n",
    "Train_Test_IDx = np.zeros((Data_proj1.shape[0],))\n",
    "Train_Test_IDx[0:int(0.2*Data_proj1.shape[0])] = 1\n",
    "np.random.shuffle(Train_Test_IDx)\n",
    "\n",
    "Original_Images_Train = Original_Images[Train_Test_IDx==0,:,:,:]\n",
    "Original_Images_Test  = Original_Images[Train_Test_IDx==1,:,:,:]\n",
    "Original_Codes_Train  = Original_Codes[Train_Test_IDx==0,:,:]\n",
    "Original_Codes_Test   = Original_Codes[Train_Test_IDx==1,:,:]"
   ]
  },
  {
   "cell_type": "code",
   "execution_count": 19,
   "metadata": {},
   "outputs": [],
   "source": [
    "# Save Splitted Original Data\n",
    "with open(os.path.join('./SubcorticalImages/Thalmus/ToSam/R/Original_Images_Train.pkl'),'wb') as f:\n",
    "    pickle.dump(Original_Images_Train, f)\n",
    "with open(os.path.join('./SubcorticalImages/Thalmus/ToSam/R/Original_Images_Test.pkl'),'wb') as f:\n",
    "    pickle.dump(Original_Images_Test, f)\n",
    "with open(os.path.join('./SubcorticalImages/Thalmus/ToSam/R/Original_Codes_Train.pkl'),'wb') as f:\n",
    "    pickle.dump(Original_Codes_Train, f)\n",
    "with open(os.path.join('./SubcorticalImages/Thalmus/ToSam/R/Original_Codes_Test.pkl'),'wb') as f:\n",
    "    pickle.dump(Original_Codes_Test, f)"
   ]
  },
  {
   "cell_type": "code",
   "execution_count": 20,
   "metadata": {},
   "outputs": [],
   "source": [
    "Inhomogeneous_Images_Train = Original_Images_Train\n",
    "Inhomogeneous_Images_Test  = Original_Images_Test\n",
    "Inhomogeneous_Codes_Train  = Original_Codes_Train\n",
    "Inhomogeneous_Codes_Test   = Original_Codes_Test\n",
    "\n",
    "# Create Inhomogenous Data (Train)\n",
    "for i in range(Inhomogeneous_Images_Train.shape[0]):\n",
    "    #Select projection item to replace\n",
    "    proj = randint(0, 2)\n",
    "    #Select Subject Data for replaement\n",
    "    j = randint(0, Inhomogeneous_Images_Train.shape[0]-1)\n",
    "    Inhomogeneous_Images_Train[i,proj,:,:] = Original_Images_Train[j,proj,:,:]\n",
    "    Inhomogeneous_Codes_Train[i,proj,:]    = Original_Codes_Train[j,proj,:]\n",
    "\n",
    "for i in range(Inhomogeneous_Images_Test.shape[0]):\n",
    "    #Select projection item to replace (Test)\n",
    "    proj = randint(0, 2)\n",
    "    #Select Subject Data for replaement\n",
    "    j = randint(0, Inhomogeneous_Images_Test.shape[0]-1)\n",
    "    Inhomogeneous_Images_Test[i,proj,:,:]  = Original_Images_Test[j,proj,:,:]\n",
    "    Inhomogeneous_Codes_Test[i,proj,:]     = Original_Codes_Test[j,proj,:]"
   ]
  },
  {
   "cell_type": "code",
   "execution_count": 21,
   "metadata": {},
   "outputs": [],
   "source": [
    "# Save Splitted Inhomogenous Data\n",
    "with open(os.path.join('./SubcorticalImages/Thalmus/ToSam/R/Inhomogeneous_Images_Train.pkl'),'wb') as f:\n",
    "    pickle.dump(Inhomogeneous_Images_Train, f)\n",
    "with open(os.path.join('./SubcorticalImages/Thalmus/ToSam/R/Inhomogeneous_Images_Test.pkl'),'wb') as f:\n",
    "    pickle.dump(Inhomogeneous_Images_Test, f)\n",
    "with open(os.path.join('./SubcorticalImages/Thalmus/ToSam/R/Inhomogeneous_Codes_Train.pkl'),'wb') as f:\n",
    "    pickle.dump(Inhomogeneous_Codes_Train, f)\n",
    "with open(os.path.join('./SubcorticalImages/Thalmus/ToSam/R/Inhomogeneous_Codes_Test.pkl'),'wb') as f:\n",
    "    pickle.dump(Inhomogeneous_Codes_Test, f)"
   ]
  }
 ],
 "metadata": {
  "kernelspec": {
   "display_name": "Python 3",
   "language": "python",
   "name": "python3"
  },
  "language_info": {
   "codemirror_mode": {
    "name": "ipython",
    "version": 3
   },
   "file_extension": ".py",
   "mimetype": "text/x-python",
   "name": "python",
   "nbconvert_exporter": "python",
   "pygments_lexer": "ipython3",
   "version": "3.6.4"
  }
 },
 "nbformat": 4,
 "nbformat_minor": 2
}
